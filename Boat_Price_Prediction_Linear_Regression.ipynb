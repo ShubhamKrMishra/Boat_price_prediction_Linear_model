{
  "nbformat": 4,
  "nbformat_minor": 0,
  "metadata": {
    "colab": {
      "provenance": []
    },
    "kernelspec": {
      "name": "python3",
      "display_name": "Python 3"
    },
    "language_info": {
      "name": "python"
    }
  },
  "cells": [
    {
      "cell_type": "code",
      "execution_count": 1,
      "metadata": {
        "id": "LsSfGidsqmUR"
      },
      "outputs": [],
      "source": [
        "import pandas as pd\n",
        "import numpy as np \n",
        "import matplotlib.pyplot as plt\n",
        "import seaborn as sns"
      ]
    },
    {
      "cell_type": "code",
      "source": [
        "data = pd.read_csv('boat_data.csv')"
      ],
      "metadata": {
        "id": "87GUL04frVx1"
      },
      "execution_count": 2,
      "outputs": []
    },
    {
      "cell_type": "code",
      "source": [
        "data.info()"
      ],
      "metadata": {
        "colab": {
          "base_uri": "https://localhost:8080/"
        },
        "id": "L6qVZ1IIt7X9",
        "outputId": "25a311f9-be80-4366-a965-711586d40b80"
      },
      "execution_count": 3,
      "outputs": [
        {
          "output_type": "stream",
          "name": "stdout",
          "text": [
            "<class 'pandas.core.frame.DataFrame'>\n",
            "RangeIndex: 9888 entries, 0 to 9887\n",
            "Data columns (total 10 columns):\n",
            " #   Column                       Non-Null Count  Dtype  \n",
            "---  ------                       --------------  -----  \n",
            " 0   Price                        9888 non-null   object \n",
            " 1   Boat Type                    9888 non-null   object \n",
            " 2   Manufacturer                 8550 non-null   object \n",
            " 3   Type                         9882 non-null   object \n",
            " 4   Year Built                   9888 non-null   int64  \n",
            " 5   Length                       9879 non-null   float64\n",
            " 6   Width                        9832 non-null   float64\n",
            " 7   Material                     8139 non-null   object \n",
            " 8   Location                     9852 non-null   object \n",
            " 9   Number of views last 7 days  9888 non-null   int64  \n",
            "dtypes: float64(2), int64(2), object(6)\n",
            "memory usage: 772.6+ KB\n"
          ]
        }
      ]
    },
    {
      "cell_type": "code",
      "source": [
        "data.head()"
      ],
      "metadata": {
        "colab": {
          "base_uri": "https://localhost:8080/",
          "height": 545
        },
        "id": "yiuPVmZurZaY",
        "outputId": "5e7b0ddc-7711-4d17-cad0-fe070f9ecc61"
      },
      "execution_count": 4,
      "outputs": [
        {
          "output_type": "execute_result",
          "data": {
            "text/plain": [
              "       Price            Boat Type          Manufacturer                 Type  \\\n",
              "0   CHF 3337          Motor Yacht  Rigiflex power boats  new boat from stock   \n",
              "1   EUR 3490  Center console boat     Terhi power boats  new boat from stock   \n",
              "2   CHF 3770           Sport Boat    Marine power boats  new boat from stock   \n",
              "3  DKK 25900           Sport Boat    Pioner power boats  new boat from stock   \n",
              "4   EUR 3399         Fishing Boat    Linder power boats  new boat from stock   \n",
              "\n",
              "   Year Built  Length  Width       Material  \\\n",
              "0        2017    4.00   1.90            NaN   \n",
              "1        2020    4.00   1.50  Thermoplastic   \n",
              "2           0    3.69   1.42      Aluminium   \n",
              "3        2020    3.00   1.00            NaN   \n",
              "4        2019    3.55   1.46      Aluminium   \n",
              "\n",
              "                                     Location  Number of views last 7 days  \n",
              "0      Switzerland Â» Lake Geneva Â» VÃ©senaz                          226  \n",
              "1                    Germany Â» BÃ¶nningstedt                           75  \n",
              "2  Switzerland Â» Lake of Zurich Â» StÃ¤fa ZH                          124  \n",
              "3                        Denmark Â» Svendborg                           64  \n",
              "4               Germany Â» Bayern Â» MÃ¼nchen                           58  "
            ],
            "text/html": [
              "\n",
              "  <div id=\"df-c8861438-9b80-40ef-82e3-ed0664345490\">\n",
              "    <div class=\"colab-df-container\">\n",
              "      <div>\n",
              "<style scoped>\n",
              "    .dataframe tbody tr th:only-of-type {\n",
              "        vertical-align: middle;\n",
              "    }\n",
              "\n",
              "    .dataframe tbody tr th {\n",
              "        vertical-align: top;\n",
              "    }\n",
              "\n",
              "    .dataframe thead th {\n",
              "        text-align: right;\n",
              "    }\n",
              "</style>\n",
              "<table border=\"1\" class=\"dataframe\">\n",
              "  <thead>\n",
              "    <tr style=\"text-align: right;\">\n",
              "      <th></th>\n",
              "      <th>Price</th>\n",
              "      <th>Boat Type</th>\n",
              "      <th>Manufacturer</th>\n",
              "      <th>Type</th>\n",
              "      <th>Year Built</th>\n",
              "      <th>Length</th>\n",
              "      <th>Width</th>\n",
              "      <th>Material</th>\n",
              "      <th>Location</th>\n",
              "      <th>Number of views last 7 days</th>\n",
              "    </tr>\n",
              "  </thead>\n",
              "  <tbody>\n",
              "    <tr>\n",
              "      <th>0</th>\n",
              "      <td>CHF 3337</td>\n",
              "      <td>Motor Yacht</td>\n",
              "      <td>Rigiflex power boats</td>\n",
              "      <td>new boat from stock</td>\n",
              "      <td>2017</td>\n",
              "      <td>4.00</td>\n",
              "      <td>1.90</td>\n",
              "      <td>NaN</td>\n",
              "      <td>Switzerland Â» Lake Geneva Â» VÃ©senaz</td>\n",
              "      <td>226</td>\n",
              "    </tr>\n",
              "    <tr>\n",
              "      <th>1</th>\n",
              "      <td>EUR 3490</td>\n",
              "      <td>Center console boat</td>\n",
              "      <td>Terhi power boats</td>\n",
              "      <td>new boat from stock</td>\n",
              "      <td>2020</td>\n",
              "      <td>4.00</td>\n",
              "      <td>1.50</td>\n",
              "      <td>Thermoplastic</td>\n",
              "      <td>Germany Â» BÃ¶nningstedt</td>\n",
              "      <td>75</td>\n",
              "    </tr>\n",
              "    <tr>\n",
              "      <th>2</th>\n",
              "      <td>CHF 3770</td>\n",
              "      <td>Sport Boat</td>\n",
              "      <td>Marine power boats</td>\n",
              "      <td>new boat from stock</td>\n",
              "      <td>0</td>\n",
              "      <td>3.69</td>\n",
              "      <td>1.42</td>\n",
              "      <td>Aluminium</td>\n",
              "      <td>Switzerland Â» Lake of Zurich Â» StÃ¤fa ZH</td>\n",
              "      <td>124</td>\n",
              "    </tr>\n",
              "    <tr>\n",
              "      <th>3</th>\n",
              "      <td>DKK 25900</td>\n",
              "      <td>Sport Boat</td>\n",
              "      <td>Pioner power boats</td>\n",
              "      <td>new boat from stock</td>\n",
              "      <td>2020</td>\n",
              "      <td>3.00</td>\n",
              "      <td>1.00</td>\n",
              "      <td>NaN</td>\n",
              "      <td>Denmark Â» Svendborg</td>\n",
              "      <td>64</td>\n",
              "    </tr>\n",
              "    <tr>\n",
              "      <th>4</th>\n",
              "      <td>EUR 3399</td>\n",
              "      <td>Fishing Boat</td>\n",
              "      <td>Linder power boats</td>\n",
              "      <td>new boat from stock</td>\n",
              "      <td>2019</td>\n",
              "      <td>3.55</td>\n",
              "      <td>1.46</td>\n",
              "      <td>Aluminium</td>\n",
              "      <td>Germany Â» Bayern Â» MÃ¼nchen</td>\n",
              "      <td>58</td>\n",
              "    </tr>\n",
              "  </tbody>\n",
              "</table>\n",
              "</div>\n",
              "      <button class=\"colab-df-convert\" onclick=\"convertToInteractive('df-c8861438-9b80-40ef-82e3-ed0664345490')\"\n",
              "              title=\"Convert this dataframe to an interactive table.\"\n",
              "              style=\"display:none;\">\n",
              "        \n",
              "  <svg xmlns=\"http://www.w3.org/2000/svg\" height=\"24px\"viewBox=\"0 0 24 24\"\n",
              "       width=\"24px\">\n",
              "    <path d=\"M0 0h24v24H0V0z\" fill=\"none\"/>\n",
              "    <path d=\"M18.56 5.44l.94 2.06.94-2.06 2.06-.94-2.06-.94-.94-2.06-.94 2.06-2.06.94zm-11 1L8.5 8.5l.94-2.06 2.06-.94-2.06-.94L8.5 2.5l-.94 2.06-2.06.94zm10 10l.94 2.06.94-2.06 2.06-.94-2.06-.94-.94-2.06-.94 2.06-2.06.94z\"/><path d=\"M17.41 7.96l-1.37-1.37c-.4-.4-.92-.59-1.43-.59-.52 0-1.04.2-1.43.59L10.3 9.45l-7.72 7.72c-.78.78-.78 2.05 0 2.83L4 21.41c.39.39.9.59 1.41.59.51 0 1.02-.2 1.41-.59l7.78-7.78 2.81-2.81c.8-.78.8-2.07 0-2.86zM5.41 20L4 18.59l7.72-7.72 1.47 1.35L5.41 20z\"/>\n",
              "  </svg>\n",
              "      </button>\n",
              "      \n",
              "  <style>\n",
              "    .colab-df-container {\n",
              "      display:flex;\n",
              "      flex-wrap:wrap;\n",
              "      gap: 12px;\n",
              "    }\n",
              "\n",
              "    .colab-df-convert {\n",
              "      background-color: #E8F0FE;\n",
              "      border: none;\n",
              "      border-radius: 50%;\n",
              "      cursor: pointer;\n",
              "      display: none;\n",
              "      fill: #1967D2;\n",
              "      height: 32px;\n",
              "      padding: 0 0 0 0;\n",
              "      width: 32px;\n",
              "    }\n",
              "\n",
              "    .colab-df-convert:hover {\n",
              "      background-color: #E2EBFA;\n",
              "      box-shadow: 0px 1px 2px rgba(60, 64, 67, 0.3), 0px 1px 3px 1px rgba(60, 64, 67, 0.15);\n",
              "      fill: #174EA6;\n",
              "    }\n",
              "\n",
              "    [theme=dark] .colab-df-convert {\n",
              "      background-color: #3B4455;\n",
              "      fill: #D2E3FC;\n",
              "    }\n",
              "\n",
              "    [theme=dark] .colab-df-convert:hover {\n",
              "      background-color: #434B5C;\n",
              "      box-shadow: 0px 1px 3px 1px rgba(0, 0, 0, 0.15);\n",
              "      filter: drop-shadow(0px 1px 2px rgba(0, 0, 0, 0.3));\n",
              "      fill: #FFFFFF;\n",
              "    }\n",
              "  </style>\n",
              "\n",
              "      <script>\n",
              "        const buttonEl =\n",
              "          document.querySelector('#df-c8861438-9b80-40ef-82e3-ed0664345490 button.colab-df-convert');\n",
              "        buttonEl.style.display =\n",
              "          google.colab.kernel.accessAllowed ? 'block' : 'none';\n",
              "\n",
              "        async function convertToInteractive(key) {\n",
              "          const element = document.querySelector('#df-c8861438-9b80-40ef-82e3-ed0664345490');\n",
              "          const dataTable =\n",
              "            await google.colab.kernel.invokeFunction('convertToInteractive',\n",
              "                                                     [key], {});\n",
              "          if (!dataTable) return;\n",
              "\n",
              "          const docLinkHtml = 'Like what you see? Visit the ' +\n",
              "            '<a target=\"_blank\" href=https://colab.research.google.com/notebooks/data_table.ipynb>data table notebook</a>'\n",
              "            + ' to learn more about interactive tables.';\n",
              "          element.innerHTML = '';\n",
              "          dataTable['output_type'] = 'display_data';\n",
              "          await google.colab.output.renderOutput(dataTable, element);\n",
              "          const docLink = document.createElement('div');\n",
              "          docLink.innerHTML = docLinkHtml;\n",
              "          element.appendChild(docLink);\n",
              "        }\n",
              "      </script>\n",
              "    </div>\n",
              "  </div>\n",
              "  "
            ]
          },
          "metadata": {},
          "execution_count": 4
        }
      ]
    },
    {
      "cell_type": "code",
      "source": [
        "data[['currency','Price']]= data['Price'].str.split(' ', 1, expand=True)"
      ],
      "metadata": {
        "colab": {
          "base_uri": "https://localhost:8080/"
        },
        "id": "wXkxopiqvc5c",
        "outputId": "ca956664-cdcb-4b96-c8af-aafcba25816e"
      },
      "execution_count": 5,
      "outputs": [
        {
          "output_type": "stream",
          "name": "stderr",
          "text": [
            "<ipython-input-5-5fae122a33b4>:1: FutureWarning: In a future version of pandas all arguments of StringMethods.split except for the argument 'pat' will be keyword-only.\n",
            "  data[['currency','Price']]= data['Price'].str.split(' ', 1, expand=True)\n"
          ]
        }
      ]
    },
    {
      "cell_type": "code",
      "source": [
        "def pricedollars(Price,currency):\n",
        "    if currency=='EUR':\n",
        "        return int(Price) * 1.11\n",
        "    elif currency=='CHF':\n",
        "        return int(Price) * 1.13\n",
        "    elif currency=='DKK':\n",
        "        return int(Price) * 0.15\n",
        "    elif currency=='Â£':\n",
        "        return int(Price) * 1.25\n",
        "data['price_dollar'] = data.apply(lambda x: pricedollars(x.Price, x.currency), axis=1)"
      ],
      "metadata": {
        "id": "fTEC29o90vO8"
      },
      "execution_count": 6,
      "outputs": []
    },
    {
      "cell_type": "code",
      "source": [
        "data.head()"
      ],
      "metadata": {
        "colab": {
          "base_uri": "https://localhost:8080/",
          "height": 600
        },
        "id": "V5CtycFW08QW",
        "outputId": "5fab5d0e-a9eb-4454-dbf8-e4a0128290a7"
      },
      "execution_count": 7,
      "outputs": [
        {
          "output_type": "execute_result",
          "data": {
            "text/plain": [
              "   Price            Boat Type          Manufacturer                 Type  \\\n",
              "0   3337          Motor Yacht  Rigiflex power boats  new boat from stock   \n",
              "1   3490  Center console boat     Terhi power boats  new boat from stock   \n",
              "2   3770           Sport Boat    Marine power boats  new boat from stock   \n",
              "3  25900           Sport Boat    Pioner power boats  new boat from stock   \n",
              "4   3399         Fishing Boat    Linder power boats  new boat from stock   \n",
              "\n",
              "   Year Built  Length  Width       Material  \\\n",
              "0        2017    4.00   1.90            NaN   \n",
              "1        2020    4.00   1.50  Thermoplastic   \n",
              "2           0    3.69   1.42      Aluminium   \n",
              "3        2020    3.00   1.00            NaN   \n",
              "4        2019    3.55   1.46      Aluminium   \n",
              "\n",
              "                                     Location  Number of views last 7 days  \\\n",
              "0      Switzerland Â» Lake Geneva Â» VÃ©senaz                          226   \n",
              "1                    Germany Â» BÃ¶nningstedt                           75   \n",
              "2  Switzerland Â» Lake of Zurich Â» StÃ¤fa ZH                          124   \n",
              "3                        Denmark Â» Svendborg                           64   \n",
              "4               Germany Â» Bayern Â» MÃ¼nchen                           58   \n",
              "\n",
              "  currency  price_dollar  \n",
              "0      CHF       3770.81  \n",
              "1      EUR       3873.90  \n",
              "2      CHF       4260.10  \n",
              "3      DKK       3885.00  \n",
              "4      EUR       3772.89  "
            ],
            "text/html": [
              "\n",
              "  <div id=\"df-643a7741-b91e-4a1a-b1ed-a710062bfaea\">\n",
              "    <div class=\"colab-df-container\">\n",
              "      <div>\n",
              "<style scoped>\n",
              "    .dataframe tbody tr th:only-of-type {\n",
              "        vertical-align: middle;\n",
              "    }\n",
              "\n",
              "    .dataframe tbody tr th {\n",
              "        vertical-align: top;\n",
              "    }\n",
              "\n",
              "    .dataframe thead th {\n",
              "        text-align: right;\n",
              "    }\n",
              "</style>\n",
              "<table border=\"1\" class=\"dataframe\">\n",
              "  <thead>\n",
              "    <tr style=\"text-align: right;\">\n",
              "      <th></th>\n",
              "      <th>Price</th>\n",
              "      <th>Boat Type</th>\n",
              "      <th>Manufacturer</th>\n",
              "      <th>Type</th>\n",
              "      <th>Year Built</th>\n",
              "      <th>Length</th>\n",
              "      <th>Width</th>\n",
              "      <th>Material</th>\n",
              "      <th>Location</th>\n",
              "      <th>Number of views last 7 days</th>\n",
              "      <th>currency</th>\n",
              "      <th>price_dollar</th>\n",
              "    </tr>\n",
              "  </thead>\n",
              "  <tbody>\n",
              "    <tr>\n",
              "      <th>0</th>\n",
              "      <td>3337</td>\n",
              "      <td>Motor Yacht</td>\n",
              "      <td>Rigiflex power boats</td>\n",
              "      <td>new boat from stock</td>\n",
              "      <td>2017</td>\n",
              "      <td>4.00</td>\n",
              "      <td>1.90</td>\n",
              "      <td>NaN</td>\n",
              "      <td>Switzerland Â» Lake Geneva Â» VÃ©senaz</td>\n",
              "      <td>226</td>\n",
              "      <td>CHF</td>\n",
              "      <td>3770.81</td>\n",
              "    </tr>\n",
              "    <tr>\n",
              "      <th>1</th>\n",
              "      <td>3490</td>\n",
              "      <td>Center console boat</td>\n",
              "      <td>Terhi power boats</td>\n",
              "      <td>new boat from stock</td>\n",
              "      <td>2020</td>\n",
              "      <td>4.00</td>\n",
              "      <td>1.50</td>\n",
              "      <td>Thermoplastic</td>\n",
              "      <td>Germany Â» BÃ¶nningstedt</td>\n",
              "      <td>75</td>\n",
              "      <td>EUR</td>\n",
              "      <td>3873.90</td>\n",
              "    </tr>\n",
              "    <tr>\n",
              "      <th>2</th>\n",
              "      <td>3770</td>\n",
              "      <td>Sport Boat</td>\n",
              "      <td>Marine power boats</td>\n",
              "      <td>new boat from stock</td>\n",
              "      <td>0</td>\n",
              "      <td>3.69</td>\n",
              "      <td>1.42</td>\n",
              "      <td>Aluminium</td>\n",
              "      <td>Switzerland Â» Lake of Zurich Â» StÃ¤fa ZH</td>\n",
              "      <td>124</td>\n",
              "      <td>CHF</td>\n",
              "      <td>4260.10</td>\n",
              "    </tr>\n",
              "    <tr>\n",
              "      <th>3</th>\n",
              "      <td>25900</td>\n",
              "      <td>Sport Boat</td>\n",
              "      <td>Pioner power boats</td>\n",
              "      <td>new boat from stock</td>\n",
              "      <td>2020</td>\n",
              "      <td>3.00</td>\n",
              "      <td>1.00</td>\n",
              "      <td>NaN</td>\n",
              "      <td>Denmark Â» Svendborg</td>\n",
              "      <td>64</td>\n",
              "      <td>DKK</td>\n",
              "      <td>3885.00</td>\n",
              "    </tr>\n",
              "    <tr>\n",
              "      <th>4</th>\n",
              "      <td>3399</td>\n",
              "      <td>Fishing Boat</td>\n",
              "      <td>Linder power boats</td>\n",
              "      <td>new boat from stock</td>\n",
              "      <td>2019</td>\n",
              "      <td>3.55</td>\n",
              "      <td>1.46</td>\n",
              "      <td>Aluminium</td>\n",
              "      <td>Germany Â» Bayern Â» MÃ¼nchen</td>\n",
              "      <td>58</td>\n",
              "      <td>EUR</td>\n",
              "      <td>3772.89</td>\n",
              "    </tr>\n",
              "  </tbody>\n",
              "</table>\n",
              "</div>\n",
              "      <button class=\"colab-df-convert\" onclick=\"convertToInteractive('df-643a7741-b91e-4a1a-b1ed-a710062bfaea')\"\n",
              "              title=\"Convert this dataframe to an interactive table.\"\n",
              "              style=\"display:none;\">\n",
              "        \n",
              "  <svg xmlns=\"http://www.w3.org/2000/svg\" height=\"24px\"viewBox=\"0 0 24 24\"\n",
              "       width=\"24px\">\n",
              "    <path d=\"M0 0h24v24H0V0z\" fill=\"none\"/>\n",
              "    <path d=\"M18.56 5.44l.94 2.06.94-2.06 2.06-.94-2.06-.94-.94-2.06-.94 2.06-2.06.94zm-11 1L8.5 8.5l.94-2.06 2.06-.94-2.06-.94L8.5 2.5l-.94 2.06-2.06.94zm10 10l.94 2.06.94-2.06 2.06-.94-2.06-.94-.94-2.06-.94 2.06-2.06.94z\"/><path d=\"M17.41 7.96l-1.37-1.37c-.4-.4-.92-.59-1.43-.59-.52 0-1.04.2-1.43.59L10.3 9.45l-7.72 7.72c-.78.78-.78 2.05 0 2.83L4 21.41c.39.39.9.59 1.41.59.51 0 1.02-.2 1.41-.59l7.78-7.78 2.81-2.81c.8-.78.8-2.07 0-2.86zM5.41 20L4 18.59l7.72-7.72 1.47 1.35L5.41 20z\"/>\n",
              "  </svg>\n",
              "      </button>\n",
              "      \n",
              "  <style>\n",
              "    .colab-df-container {\n",
              "      display:flex;\n",
              "      flex-wrap:wrap;\n",
              "      gap: 12px;\n",
              "    }\n",
              "\n",
              "    .colab-df-convert {\n",
              "      background-color: #E8F0FE;\n",
              "      border: none;\n",
              "      border-radius: 50%;\n",
              "      cursor: pointer;\n",
              "      display: none;\n",
              "      fill: #1967D2;\n",
              "      height: 32px;\n",
              "      padding: 0 0 0 0;\n",
              "      width: 32px;\n",
              "    }\n",
              "\n",
              "    .colab-df-convert:hover {\n",
              "      background-color: #E2EBFA;\n",
              "      box-shadow: 0px 1px 2px rgba(60, 64, 67, 0.3), 0px 1px 3px 1px rgba(60, 64, 67, 0.15);\n",
              "      fill: #174EA6;\n",
              "    }\n",
              "\n",
              "    [theme=dark] .colab-df-convert {\n",
              "      background-color: #3B4455;\n",
              "      fill: #D2E3FC;\n",
              "    }\n",
              "\n",
              "    [theme=dark] .colab-df-convert:hover {\n",
              "      background-color: #434B5C;\n",
              "      box-shadow: 0px 1px 3px 1px rgba(0, 0, 0, 0.15);\n",
              "      filter: drop-shadow(0px 1px 2px rgba(0, 0, 0, 0.3));\n",
              "      fill: #FFFFFF;\n",
              "    }\n",
              "  </style>\n",
              "\n",
              "      <script>\n",
              "        const buttonEl =\n",
              "          document.querySelector('#df-643a7741-b91e-4a1a-b1ed-a710062bfaea button.colab-df-convert');\n",
              "        buttonEl.style.display =\n",
              "          google.colab.kernel.accessAllowed ? 'block' : 'none';\n",
              "\n",
              "        async function convertToInteractive(key) {\n",
              "          const element = document.querySelector('#df-643a7741-b91e-4a1a-b1ed-a710062bfaea');\n",
              "          const dataTable =\n",
              "            await google.colab.kernel.invokeFunction('convertToInteractive',\n",
              "                                                     [key], {});\n",
              "          if (!dataTable) return;\n",
              "\n",
              "          const docLinkHtml = 'Like what you see? Visit the ' +\n",
              "            '<a target=\"_blank\" href=https://colab.research.google.com/notebooks/data_table.ipynb>data table notebook</a>'\n",
              "            + ' to learn more about interactive tables.';\n",
              "          element.innerHTML = '';\n",
              "          dataTable['output_type'] = 'display_data';\n",
              "          await google.colab.output.renderOutput(dataTable, element);\n",
              "          const docLink = document.createElement('div');\n",
              "          docLink.innerHTML = docLinkHtml;\n",
              "          element.appendChild(docLink);\n",
              "        }\n",
              "      </script>\n",
              "    </div>\n",
              "  </div>\n",
              "  "
            ]
          },
          "metadata": {},
          "execution_count": 7
        }
      ]
    },
    {
      "cell_type": "code",
      "source": [
        "data = data.drop(['Price', 'Location', 'currency'], axis=1)"
      ],
      "metadata": {
        "id": "k9vDXY9o1XB5"
      },
      "execution_count": 8,
      "outputs": []
    },
    {
      "cell_type": "code",
      "source": [
        "data.isna().sum()"
      ],
      "metadata": {
        "colab": {
          "base_uri": "https://localhost:8080/"
        },
        "id": "Tc4qNSa02DnA",
        "outputId": "dc4110ad-ac78-45cd-bed3-f007977c6719"
      },
      "execution_count": 9,
      "outputs": [
        {
          "output_type": "execute_result",
          "data": {
            "text/plain": [
              "Boat Type                         0\n",
              "Manufacturer                   1338\n",
              "Type                              6\n",
              "Year Built                        0\n",
              "Length                            9\n",
              "Width                            56\n",
              "Material                       1749\n",
              "Number of views last 7 days       0\n",
              "price_dollar                      0\n",
              "dtype: int64"
            ]
          },
          "metadata": {},
          "execution_count": 9
        }
      ]
    },
    {
      "cell_type": "code",
      "source": [
        "data = data.dropna()"
      ],
      "metadata": {
        "id": "vLofMp3Z2WVr"
      },
      "execution_count": 10,
      "outputs": []
    },
    {
      "cell_type": "code",
      "source": [
        "data.isna().sum()"
      ],
      "metadata": {
        "colab": {
          "base_uri": "https://localhost:8080/"
        },
        "id": "IhvLyIsC2MX5",
        "outputId": "2f515ecf-9fa0-4518-9715-5aa2dcf67f68"
      },
      "execution_count": 11,
      "outputs": [
        {
          "output_type": "execute_result",
          "data": {
            "text/plain": [
              "Boat Type                      0\n",
              "Manufacturer                   0\n",
              "Type                           0\n",
              "Year Built                     0\n",
              "Length                         0\n",
              "Width                          0\n",
              "Material                       0\n",
              "Number of views last 7 days    0\n",
              "price_dollar                   0\n",
              "dtype: int64"
            ]
          },
          "metadata": {},
          "execution_count": 11
        }
      ]
    },
    {
      "cell_type": "code",
      "source": [
        "from sklearn.preprocessing import LabelEncoder, StandardScaler, MinMaxScaler\n",
        "le = LabelEncoder()\n",
        "sc = StandardScaler()\n",
        "target_scaler = MinMaxScaler()"
      ],
      "metadata": {
        "id": "FPb3obpy2hIb"
      },
      "execution_count": 12,
      "outputs": []
    },
    {
      "cell_type": "code",
      "source": [
        "data.info()"
      ],
      "metadata": {
        "colab": {
          "base_uri": "https://localhost:8080/"
        },
        "id": "E6pAyvdc28xB",
        "outputId": "6e114f47-0c8f-4af1-c617-11760ab8df16"
      },
      "execution_count": 13,
      "outputs": [
        {
          "output_type": "stream",
          "name": "stdout",
          "text": [
            "<class 'pandas.core.frame.DataFrame'>\n",
            "Int64Index: 7048 entries, 1 to 9887\n",
            "Data columns (total 9 columns):\n",
            " #   Column                       Non-Null Count  Dtype  \n",
            "---  ------                       --------------  -----  \n",
            " 0   Boat Type                    7048 non-null   object \n",
            " 1   Manufacturer                 7048 non-null   object \n",
            " 2   Type                         7048 non-null   object \n",
            " 3   Year Built                   7048 non-null   int64  \n",
            " 4   Length                       7048 non-null   float64\n",
            " 5   Width                        7048 non-null   float64\n",
            " 6   Material                     7048 non-null   object \n",
            " 7   Number of views last 7 days  7048 non-null   int64  \n",
            " 8   price_dollar                 7048 non-null   float64\n",
            "dtypes: float64(3), int64(2), object(4)\n",
            "memory usage: 550.6+ KB\n"
          ]
        }
      ]
    },
    {
      "cell_type": "code",
      "source": [],
      "metadata": {
        "id": "aCsS8lDpWM6q"
      },
      "execution_count": 13,
      "outputs": []
    },
    {
      "cell_type": "code",
      "source": [
        "data['Boat Type'] = le.fit_transform(data['Boat Type'])\n",
        "data['Manufacturer'] = le.fit_transform(data['Manufacturer'])\n",
        "data['Type'] = le.fit_transform(data['Type'])\n",
        "data['Material'] = le.fit_transform(data['Material'])"
      ],
      "metadata": {
        "id": "sU0r9dqT27kB"
      },
      "execution_count": 14,
      "outputs": []
    },
    {
      "cell_type": "code",
      "source": [
        "data['Number of views last 7 days'] = data['Number of views last 7 days'].astype(int)"
      ],
      "metadata": {
        "id": "4-ROzEfu3Yd7"
      },
      "execution_count": 15,
      "outputs": []
    },
    {
      "cell_type": "code",
      "source": [
        "data.info()"
      ],
      "metadata": {
        "colab": {
          "base_uri": "https://localhost:8080/"
        },
        "id": "c2LZSbr13j9_",
        "outputId": "c7ad0f4e-09dc-4936-e8f7-d0e72ed43fb2"
      },
      "execution_count": 16,
      "outputs": [
        {
          "output_type": "stream",
          "name": "stdout",
          "text": [
            "<class 'pandas.core.frame.DataFrame'>\n",
            "Int64Index: 7048 entries, 1 to 9887\n",
            "Data columns (total 9 columns):\n",
            " #   Column                       Non-Null Count  Dtype  \n",
            "---  ------                       --------------  -----  \n",
            " 0   Boat Type                    7048 non-null   int64  \n",
            " 1   Manufacturer                 7048 non-null   int64  \n",
            " 2   Type                         7048 non-null   int64  \n",
            " 3   Year Built                   7048 non-null   int64  \n",
            " 4   Length                       7048 non-null   float64\n",
            " 5   Width                        7048 non-null   float64\n",
            " 6   Material                     7048 non-null   int64  \n",
            " 7   Number of views last 7 days  7048 non-null   int64  \n",
            " 8   price_dollar                 7048 non-null   float64\n",
            "dtypes: float64(3), int64(6)\n",
            "memory usage: 550.6 KB\n"
          ]
        }
      ]
    },
    {
      "cell_type": "code",
      "source": [
        "#feature Selection\n",
        "sns.heatmap(data.corr(), annot=True)"
      ],
      "metadata": {
        "colab": {
          "base_uri": "https://localhost:8080/",
          "height": 635
        },
        "id": "Bq1qVLLR64F-",
        "outputId": "d5ee7248-cf67-4c60-8ed7-683dd8ae1625"
      },
      "execution_count": 17,
      "outputs": [
        {
          "output_type": "execute_result",
          "data": {
            "text/plain": [
              "<Axes: >"
            ]
          },
          "metadata": {},
          "execution_count": 17
        },
        {
          "output_type": "display_data",
          "data": {
            "text/plain": [
              "<Figure size 640x480 with 2 Axes>"
            ],
            "image/png": "[encoded data removed]"
          },
          "metadata": {}
        }
      ]
    },
    {
      "cell_type": "code",
      "source": [
        "sns.displot(data['price_dollar'])"
      ],
      "metadata": {
        "colab": {
          "base_uri": "https://localhost:8080/",
          "height": 524
        },
        "id": "JWu3ZLJaC0vr",
        "outputId": "8a1a577f-cd32-4b41-f3e2-cddd1e522aac"
      },
      "execution_count": 18,
      "outputs": [
        {
          "output_type": "execute_result",
          "data": {
            "text/plain": [
              "<seaborn.axisgrid.FacetGrid at 0x7fe50cead9d0>"
            ]
          },
          "metadata": {},
          "execution_count": 18
        },
        {
          "output_type": "display_data",
          "data": {
            "text/plain": [
              "<Figure size 500x500 with 1 Axes>"
            ],
            "image/png": "[encoded data removed]"
          },
          "metadata": {}
        }
      ]
    },
    {
      "cell_type": "code",
      "source": [
        "data.columns"
      ],
      "metadata": {
        "colab": {
          "base_uri": "https://localhost:8080/"
        },
        "id": "luV8Dh327Ds5",
        "outputId": "d1a34599-494d-4b00-e571-696b57a1b967"
      },
      "execution_count": 19,
      "outputs": [
        {
          "output_type": "execute_result",
          "data": {
            "text/plain": [
              "Index(['Boat Type', 'Manufacturer', 'Type', 'Year Built', 'Length', 'Width',\n",
              "       'Material', 'Number of views last 7 days', 'price_dollar'],\n",
              "      dtype='object')"
            ]
          },
          "metadata": {},
          "execution_count": 19
        }
      ]
    },
    {
      "cell_type": "code",
      "source": [
        "X = data.drop(['price_dollar'], axis=1)\n",
        "y = data['price_dollar']"
      ],
      "metadata": {
        "id": "vwXBHKHg3lse"
      },
      "execution_count": 20,
      "outputs": []
    },
    {
      "cell_type": "code",
      "source": [
        "X = sc.fit_transform(X)\n",
        "y = np.log10(data['price_dollar'])"
      ],
      "metadata": {
        "id": "SvPKZh4o6tgv"
      },
      "execution_count": 21,
      "outputs": []
    },
    {
      "cell_type": "code",
      "source": [
        "from sklearn.model_selection import train_test_split\n",
        "from sklearn.linear_model import LinearRegression\n",
        "from sklearn.metrics import mean_squared_error, r2_score, mean_absolute_error\n",
        "from sklearn.compose import TransformedTargetRegressor\n"
      ],
      "metadata": {
        "id": "ks_JOUCl4Utl"
      },
      "execution_count": 22,
      "outputs": []
    },
    {
      "cell_type": "code",
      "source": [
        "X_train, X_test, y_train, y_test = train_test_split(X, y, test_size = 0.3, random_state=29)"
      ],
      "metadata": {
        "id": "iDu7hFJU5Mz9"
      },
      "execution_count": 23,
      "outputs": []
    },
    {
      "cell_type": "code",
      "source": [
        "model = LinearRegression()"
      ],
      "metadata": {
        "id": "Q_1OTqEPRC_u"
      },
      "execution_count": 24,
      "outputs": []
    },
    {
      "cell_type": "code",
      "source": [
        "model.fit(X_train, y_train)"
      ],
      "metadata": {
        "colab": {
          "base_uri": "https://localhost:8080/",
          "height": 74
        },
        "id": "KkABy18j5K8k",
        "outputId": "da2bdc07-abe0-4459-8a8c-b1d79334ee64"
      },
      "execution_count": 25,
      "outputs": [
        {
          "output_type": "execute_result",
          "data": {
            "text/plain": [
              "LinearRegression()"
            ],
            "text/html": [
              "<style>#sk-container-id-1 {color: black;background-color: white;}#sk-container-id-1 pre{padding: 0;}#sk-container-id-1 div.sk-toggleable {background-color: white;}#sk-container-id-1 label.sk-toggleable__label {cursor: pointer;display: block;width: 100%;margin-bottom: 0;padding: 0.3em;box-sizing: border-box;text-align: center;}#sk-container-id-1 label.sk-toggleable__label-arrow:before {content: \"▸\";float: left;margin-right: 0.25em;color: #696969;}#sk-container-id-1 label.sk-toggleable__label-arrow:hover:before {color: black;}#sk-container-id-1 div.sk-estimator:hover label.sk-toggleable__label-arrow:before {color: black;}#sk-container-id-1 div.sk-toggleable__content {max-height: 0;max-width: 0;overflow: hidden;text-align: left;background-color: #f0f8ff;}#sk-container-id-1 div.sk-toggleable__content pre {margin: 0.2em;color: black;border-radius: 0.25em;background-color: #f0f8ff;}#sk-container-id-1 input.sk-toggleable__control:checked~div.sk-toggleable__content {max-height: 200px;max-width: 100%;overflow: auto;}#sk-container-id-1 input.sk-toggleable__control:checked~label.sk-toggleable__label-arrow:before {content: \"▾\";}#sk-container-id-1 div.sk-estimator input.sk-toggleable__control:checked~label.sk-toggleable__label {background-color: #d4ebff;}#sk-container-id-1 div.sk-label input.sk-toggleable__control:checked~label.sk-toggleable__label {background-color: #d4ebff;}#sk-container-id-1 input.sk-hidden--visually {border: 0;clip: rect(1px 1px 1px 1px);clip: rect(1px, 1px, 1px, 1px);height: 1px;margin: -1px;overflow: hidden;padding: 0;position: absolute;width: 1px;}#sk-container-id-1 div.sk-estimator {font-family: monospace;background-color: #f0f8ff;border: 1px dotted black;border-radius: 0.25em;box-sizing: border-box;margin-bottom: 0.5em;}#sk-container-id-1 div.sk-estimator:hover {background-color: #d4ebff;}#sk-container-id-1 div.sk-parallel-item::after {content: \"\";width: 100%;border-bottom: 1px solid gray;flex-grow: 1;}#sk-container-id-1 div.sk-label:hover label.sk-toggleable__label {background-color: #d4ebff;}#sk-container-id-1 div.sk-serial::before {content: \"\";position: absolute;border-left: 1px solid gray;box-sizing: border-box;top: 0;bottom: 0;left: 50%;z-index: 0;}#sk-container-id-1 div.sk-serial {display: flex;flex-direction: column;align-items: center;background-color: white;padding-right: 0.2em;padding-left: 0.2em;position: relative;}#sk-container-id-1 div.sk-item {position: relative;z-index: 1;}#sk-container-id-1 div.sk-parallel {display: flex;align-items: stretch;justify-content: center;background-color: white;position: relative;}#sk-container-id-1 div.sk-item::before, #sk-container-id-1 div.sk-parallel-item::before {content: \"\";position: absolute;border-left: 1px solid gray;box-sizing: border-box;top: 0;bottom: 0;left: 50%;z-index: -1;}#sk-container-id-1 div.sk-parallel-item {display: flex;flex-direction: column;z-index: 1;position: relative;background-color: white;}#sk-container-id-1 div.sk-parallel-item:first-child::after {align-self: flex-end;width: 50%;}#sk-container-id-1 div.sk-parallel-item:last-child::after {align-self: flex-start;width: 50%;}#sk-container-id-1 div.sk-parallel-item:only-child::after {width: 0;}#sk-container-id-1 div.sk-dashed-wrapped {border: 1px dashed gray;margin: 0 0.4em 0.5em 0.4em;box-sizing: border-box;padding-bottom: 0.4em;background-color: white;}#sk-container-id-1 div.sk-label label {font-family: monospace;font-weight: bold;display: inline-block;line-height: 1.2em;}#sk-container-id-1 div.sk-label-container {text-align: center;}#sk-container-id-1 div.sk-container {/* jupyter's `normalize.less` sets `[hidden] { display: none; }` but bootstrap.min.css set `[hidden] { display: none !important; }` so we also need the `!important` here to be able to override the default hidden behavior on the sphinx rendered scikit-learn.org. See: https://github.com/scikit-learn/scikit-learn/issues/21755 */display: inline-block !important;position: relative;}#sk-container-id-1 div.sk-text-repr-fallback {display: none;}</style><div id=\"sk-container-id-1\" class=\"sk-top-container\"><div class=\"sk-text-repr-fallback\"><pre>LinearRegression()</pre><b>In a Jupyter environment, please rerun this cell to show the HTML representation or trust the notebook. <br />On GitHub, the HTML representation is unable to render, please try loading this page with nbviewer.org.</b></div><div class=\"sk-container\" hidden><div class=\"sk-item\"><div class=\"sk-estimator sk-toggleable\"><input class=\"sk-toggleable__control sk-hidden--visually\" id=\"sk-estimator-id-1\" type=\"checkbox\" checked><label for=\"sk-estimator-id-1\" class=\"sk-toggleable__label sk-toggleable__label-arrow\">LinearRegression</label><div class=\"sk-toggleable__content\"><pre>LinearRegression()</pre></div></div></div></div></div>"
            ]
          },
          "metadata": {},
          "execution_count": 25
        }
      ]
    },
    {
      "cell_type": "code",
      "source": [
        "pred = model.predict(X_test)"
      ],
      "metadata": {
        "id": "Ms5oUKBs5XOI"
      },
      "execution_count": 26,
      "outputs": []
    },
    {
      "cell_type": "code",
      "source": [
        "mse = mean_squared_error(y_test, pred)\n",
        "print(mse)"
      ],
      "metadata": {
        "colab": {
          "base_uri": "https://localhost:8080/"
        },
        "id": "diI7mlP05ayK",
        "outputId": "4f84cecb-d26e-4b5c-a411-5a524f73a374"
      },
      "execution_count": 27,
      "outputs": [
        {
          "output_type": "stream",
          "name": "stdout",
          "text": [
            "0.07986921059336337\n"
          ]
        }
      ]
    },
    {
      "cell_type": "code",
      "source": [
        "r2_score(y_test, pred)"
      ],
      "metadata": {
        "colab": {
          "base_uri": "https://localhost:8080/"
        },
        "id": "UEL-lNrm5mWU",
        "outputId": "28099164-f6ba-4a36-a81d-8ee9492b80d5"
      },
      "execution_count": 28,
      "outputs": [
        {
          "output_type": "execute_result",
          "data": {
            "text/plain": [
              "0.7368234350256033"
            ]
          },
          "metadata": {},
          "execution_count": 28
        }
      ]
    },
    {
      "cell_type": "code",
      "source": [
        "error_pred=pd.DataFrame(columns=['Actual_data','Prediction_data'])\n",
        "\n",
        "error_pred['Actual_data']=y_test\n",
        "error_pred['Prediction_data']=pred\n",
        "error_pred['Error']=error_pred['Actual_data']-error_pred['Prediction_data']"
      ],
      "metadata": {
        "id": "9p5ni5uXLn5o"
      },
      "execution_count": 29,
      "outputs": []
    },
    {
      "cell_type": "code",
      "source": [
        "plt.figure(figsize=(5,5))\n",
        "plt.scatter(error_pred['Actual_data'], error_pred['Prediction_data'], c='crimson')\n",
        "\n",
        "p1 = max(max(error_pred['Prediction_data']), max(error_pred['Actual_data']))\n",
        "p2 = min(min(error_pred['Prediction_data']), min(error_pred['Actual_data']))\n",
        "plt.plot([p1, p2], [p1, p2], '-g')\n",
        "plt.xlabel('True Values')\n",
        "plt.ylabel('Predictions')\n",
        "plt.axis('equal')\n",
        "plt.show()"
      ],
      "metadata": {
        "colab": {
          "base_uri": "https://localhost:8080/",
          "height": 465
        },
        "id": "shHsFP4s9r7L",
        "outputId": "d1e8d9cd-19ce-481b-b457-c0f30390a90d"
      },
      "execution_count": 30,
      "outputs": [
        {
          "output_type": "display_data",
          "data": {
            "text/plain": [
              "<Figure size 500x500 with 1 Axes>"
            ],
            "image/png": "[encoded data removed]"
          },
          "metadata": {}
        }
      ]
    },
    {
      "cell_type": "code",
      "source": [
        "y_test"
      ],
      "metadata": {
        "colab": {
          "base_uri": "https://localhost:8080/"
        },
        "id": "HjkhYSyLK_09",
        "outputId": "c153f86d-daaf-4c01-ffe3-19dbba2af41a"
      },
      "execution_count": 31,
      "outputs": [
        {
          "output_type": "execute_result",
          "data": {
            "text/plain": [
              "8355    4.647383\n",
              "5870    5.191451\n",
              "4807    5.520687\n",
              "4440    5.636091\n",
              "6420    5.044888\n",
              "          ...   \n",
              "5456    5.298176\n",
              "5939    5.175657\n",
              "418     4.468052\n",
              "9509    4.221414\n",
              "563     4.558228\n",
              "Name: price_dollar, Length: 2115, dtype: float64"
            ]
          },
          "metadata": {},
          "execution_count": 31
        }
      ]
    },
    {
      "cell_type": "code",
      "source": [
        "pred"
      ],
      "metadata": {
        "colab": {
          "base_uri": "https://localhost:8080/"
        },
        "id": "2utg54oLL34C",
        "outputId": "d405245b-8710-4ee9-8756-c1c82af957aa"
      },
      "execution_count": 32,
      "outputs": [
        {
          "output_type": "execute_result",
          "data": {
            "text/plain": [
              "array([5.37438415, 5.03138639, 4.84199723, ..., 4.55123341, 4.66132214,\n",
              "       4.52998477])"
            ]
          },
          "metadata": {},
          "execution_count": 32
        }
      ]
    },
    {
      "cell_type": "code",
      "source": [
        "pred = 10 ** pred"
      ],
      "metadata": {
        "id": "bVKUVKG-MF1F"
      },
      "execution_count": 33,
      "outputs": []
    },
    {
      "cell_type": "code",
      "source": [
        "y_test = 10 ** y_test"
      ],
      "metadata": {
        "id": "iLbJZ_YLTpB1"
      },
      "execution_count": 34,
      "outputs": []
    },
    {
      "cell_type": "code",
      "source": [
        "error_pred=pd.DataFrame(columns=['Actual_data','Prediction_data'])\n",
        "\n",
        "error_pred['Actual_data']=y_test\n",
        "error_pred['Prediction_data']=pred\n",
        "error_pred['Error']=error_pred['Actual_data']-error_pred['Prediction_data']"
      ],
      "metadata": {
        "id": "KPLqBux2Tslk"
      },
      "execution_count": 35,
      "outputs": []
    },
    {
      "cell_type": "code",
      "source": [
        "error_pred"
      ],
      "metadata": {
        "id": "Joac512PTvqJ",
        "colab": {
          "base_uri": "https://localhost:8080/",
          "height": 423
        },
        "outputId": "0b98870c-250a-416c-b3bf-3600d21f96d2"
      },
      "execution_count": 36,
      "outputs": [
        {
          "output_type": "execute_result",
          "data": {
            "text/plain": [
              "      Actual_data  Prediction_data          Error\n",
              "8355     44400.00    236801.337526 -192401.337526\n",
              "5870    155400.00    107494.535619   47905.464381\n",
              "4807    331655.00     69501.987846  262153.012154\n",
              "4440    432604.68     89118.104349  343486.575651\n",
              "6420    110889.00    194792.211179  -83903.211179\n",
              "...           ...              ...            ...\n",
              "5456    198690.00    152600.217397   46089.782603\n",
              "5939    149850.00    126806.170396   23043.829604\n",
              "418      29380.00     35582.250358   -6202.250358\n",
              "9509     16650.00     45848.184473  -29198.184473\n",
              "563      36160.00     33883.227154    2276.772846\n",
              "\n",
              "[2115 rows x 3 columns]"
            ],
            "text/html": [
              "\n",
              "  <div id=\"df-db8e1b21-8dce-4567-b07a-6d26573981ec\">\n",
              "    <div class=\"colab-df-container\">\n",
              "      <div>\n",
              "<style scoped>\n",
              "    .dataframe tbody tr th:only-of-type {\n",
              "        vertical-align: middle;\n",
              "    }\n",
              "\n",
              "    .dataframe tbody tr th {\n",
              "        vertical-align: top;\n",
              "    }\n",
              "\n",
              "    .dataframe thead th {\n",
              "        text-align: right;\n",
              "    }\n",
              "</style>\n",
              "<table border=\"1\" class=\"dataframe\">\n",
              "  <thead>\n",
              "    <tr style=\"text-align: right;\">\n",
              "      <th></th>\n",
              "      <th>Actual_data</th>\n",
              "      <th>Prediction_data</th>\n",
              "      <th>Error</th>\n",
              "    </tr>\n",
              "  </thead>\n",
              "  <tbody>\n",
              "    <tr>\n",
              "      <th>8355</th>\n",
              "      <td>44400.00</td>\n",
              "      <td>236801.337526</td>\n",
              "      <td>-192401.337526</td>\n",
              "    </tr>\n",
              "    <tr>\n",
              "      <th>5870</th>\n",
              "      <td>155400.00</td>\n",
              "      <td>107494.535619</td>\n",
              "      <td>47905.464381</td>\n",
              "    </tr>\n",
              "    <tr>\n",
              "      <th>4807</th>\n",
              "      <td>331655.00</td>\n",
              "      <td>69501.987846</td>\n",
              "      <td>262153.012154</td>\n",
              "    </tr>\n",
              "    <tr>\n",
              "      <th>4440</th>\n",
              "      <td>432604.68</td>\n",
              "      <td>89118.104349</td>\n",
              "      <td>343486.575651</td>\n",
              "    </tr>\n",
              "    <tr>\n",
              "      <th>6420</th>\n",
              "      <td>110889.00</td>\n",
              "      <td>194792.211179</td>\n",
              "      <td>-83903.211179</td>\n",
              "    </tr>\n",
              "    <tr>\n",
              "      <th>...</th>\n",
              "      <td>...</td>\n",
              "      <td>...</td>\n",
              "      <td>...</td>\n",
              "    </tr>\n",
              "    <tr>\n",
              "      <th>5456</th>\n",
              "      <td>198690.00</td>\n",
              "      <td>152600.217397</td>\n",
              "      <td>46089.782603</td>\n",
              "    </tr>\n",
              "    <tr>\n",
              "      <th>5939</th>\n",
              "      <td>149850.00</td>\n",
              "      <td>126806.170396</td>\n",
              "      <td>23043.829604</td>\n",
              "    </tr>\n",
              "    <tr>\n",
              "      <th>418</th>\n",
              "      <td>29380.00</td>\n",
              "      <td>35582.250358</td>\n",
              "      <td>-6202.250358</td>\n",
              "    </tr>\n",
              "    <tr>\n",
              "      <th>9509</th>\n",
              "      <td>16650.00</td>\n",
              "      <td>45848.184473</td>\n",
              "      <td>-29198.184473</td>\n",
              "    </tr>\n",
              "    <tr>\n",
              "      <th>563</th>\n",
              "      <td>36160.00</td>\n",
              "      <td>33883.227154</td>\n",
              "      <td>2276.772846</td>\n",
              "    </tr>\n",
              "  </tbody>\n",
              "</table>\n",
              "<p>2115 rows × 3 columns</p>\n",
              "</div>\n",
              "      <button class=\"colab-df-convert\" onclick=\"convertToInteractive('df-db8e1b21-8dce-4567-b07a-6d26573981ec')\"\n",
              "              title=\"Convert this dataframe to an interactive table.\"\n",
              "              style=\"display:none;\">\n",
              "        \n",
              "  <svg xmlns=\"http://www.w3.org/2000/svg\" height=\"24px\"viewBox=\"0 0 24 24\"\n",
              "       width=\"24px\">\n",
              "    <path d=\"M0 0h24v24H0V0z\" fill=\"none\"/>\n",
              "    <path d=\"M18.56 5.44l.94 2.06.94-2.06 2.06-.94-2.06-.94-.94-2.06-.94 2.06-2.06.94zm-11 1L8.5 8.5l.94-2.06 2.06-.94-2.06-.94L8.5 2.5l-.94 2.06-2.06.94zm10 10l.94 2.06.94-2.06 2.06-.94-2.06-.94-.94-2.06-.94 2.06-2.06.94z\"/><path d=\"M17.41 7.96l-1.37-1.37c-.4-.4-.92-.59-1.43-.59-.52 0-1.04.2-1.43.59L10.3 9.45l-7.72 7.72c-.78.78-.78 2.05 0 2.83L4 21.41c.39.39.9.59 1.41.59.51 0 1.02-.2 1.41-.59l7.78-7.78 2.81-2.81c.8-.78.8-2.07 0-2.86zM5.41 20L4 18.59l7.72-7.72 1.47 1.35L5.41 20z\"/>\n",
              "  </svg>\n",
              "      </button>\n",
              "      \n",
              "  <style>\n",
              "    .colab-df-container {\n",
              "      display:flex;\n",
              "      flex-wrap:wrap;\n",
              "      gap: 12px;\n",
              "    }\n",
              "\n",
              "    .colab-df-convert {\n",
              "      background-color: #E8F0FE;\n",
              "      border: none;\n",
              "      border-radius: 50%;\n",
              "      cursor: pointer;\n",
              "      display: none;\n",
              "      fill: #1967D2;\n",
              "      height: 32px;\n",
              "      padding: 0 0 0 0;\n",
              "      width: 32px;\n",
              "    }\n",
              "\n",
              "    .colab-df-convert:hover {\n",
              "      background-color: #E2EBFA;\n",
              "      box-shadow: 0px 1px 2px rgba(60, 64, 67, 0.3), 0px 1px 3px 1px rgba(60, 64, 67, 0.15);\n",
              "      fill: #174EA6;\n",
              "    }\n",
              "\n",
              "    [theme=dark] .colab-df-convert {\n",
              "      background-color: #3B4455;\n",
              "      fill: #D2E3FC;\n",
              "    }\n",
              "\n",
              "    [theme=dark] .colab-df-convert:hover {\n",
              "      background-color: #434B5C;\n",
              "      box-shadow: 0px 1px 3px 1px rgba(0, 0, 0, 0.15);\n",
              "      filter: drop-shadow(0px 1px 2px rgba(0, 0, 0, 0.3));\n",
              "      fill: #FFFFFF;\n",
              "    }\n",
              "  </style>\n",
              "\n",
              "      <script>\n",
              "        const buttonEl =\n",
              "          document.querySelector('#df-db8e1b21-8dce-4567-b07a-6d26573981ec button.colab-df-convert');\n",
              "        buttonEl.style.display =\n",
              "          google.colab.kernel.accessAllowed ? 'block' : 'none';\n",
              "\n",
              "        async function convertToInteractive(key) {\n",
              "          const element = document.querySelector('#df-db8e1b21-8dce-4567-b07a-6d26573981ec');\n",
              "          const dataTable =\n",
              "            await google.colab.kernel.invokeFunction('convertToInteractive',\n",
              "                                                     [key], {});\n",
              "          if (!dataTable) return;\n",
              "\n",
              "          const docLinkHtml = 'Like what you see? Visit the ' +\n",
              "            '<a target=\"_blank\" href=https://colab.research.google.com/notebooks/data_table.ipynb>data table notebook</a>'\n",
              "            + ' to learn more about interactive tables.';\n",
              "          element.innerHTML = '';\n",
              "          dataTable['output_type'] = 'display_data';\n",
              "          await google.colab.output.renderOutput(dataTable, element);\n",
              "          const docLink = document.createElement('div');\n",
              "          docLink.innerHTML = docLinkHtml;\n",
              "          element.appendChild(docLink);\n",
              "        }\n",
              "      </script>\n",
              "    </div>\n",
              "  </div>\n",
              "  "
            ]
          },
          "metadata": {},
          "execution_count": 36
        }
      ]
    },
    {
      "cell_type": "code",
      "source": [
        "plt.figure(figsize=(5,5))\n",
        "plt.scatter(error_pred['Actual_data'], error_pred['Prediction_data'], c='crimson')\n",
        "\n",
        "p1 = max(max(error_pred['Prediction_data']), max(error_pred['Actual_data']))\n",
        "p2 = min(min(error_pred['Prediction_data']), min(error_pred['Actual_data']))\n",
        "plt.plot([p1, p2], [p1, p2], '-g')\n",
        "plt.xlabel('True Values')\n",
        "plt.ylabel('Predictions')\n",
        "plt.axis('equal')\n",
        "plt.show()"
      ],
      "metadata": {
        "id": "bXSrqXCZTxEl",
        "colab": {
          "base_uri": "https://localhost:8080/",
          "height": 480
        },
        "outputId": "172b391e-9788-4904-f549-114739cfb461"
      },
      "execution_count": 37,
      "outputs": [
        {
          "output_type": "display_data",
          "data": {
            "text/plain": [
              "<Figure size 500x500 with 1 Axes>"
            ],
            "image/png": "[encoded data removed]"
          },
          "metadata": {}
        }
      ]
    }
  ]
}